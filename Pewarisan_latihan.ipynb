{
  "nbformat": 4,
  "nbformat_minor": 0,
  "metadata": {
    "colab": {
      "provenance": [],
      "authorship_tag": "ABX9TyPoBFg1RibL7YWvQIFL5eap",
      "include_colab_link": true
    },
    "kernelspec": {
      "name": "python3",
      "display_name": "Python 3"
    },
    "language_info": {
      "name": "python"
    }
  },
  "cells": [
    {
      "cell_type": "markdown",
      "metadata": {
        "id": "view-in-github",
        "colab_type": "text"
      },
      "source": [
        "<a href=\"https://colab.research.google.com/github/Faris266/Tugas-3-PBO/blob/main/Pewarisan_latihan.ipynb\" target=\"_parent\"><img src=\"https://colab.research.google.com/assets/colab-badge.svg\" alt=\"Open In Colab\"/></a>"
      ]
    },
    {
      "cell_type": "code",
      "execution_count": 2,
      "metadata": {
        "colab": {
          "base_uri": "https://localhost:8080/"
        },
        "id": "IPzcSwVFW34P",
        "outputId": "65cd19b2-0c46-4d7a-ee9e-d928febab597"
      },
      "outputs": [
        {
          "output_type": "stream",
          "name": "stdout",
          "text": [
            "{'merek': 'ASUS', 'tipe': 'ROG Strix', 'tahun_rilis': 2022, 'gpu': 'NVIDIA RTX 3060', 'kapasitas_ram': '16GB'}\n",
            "{'merek': 'Lenovo', 'tipe': 'ThinkPad', 'tahun_rilis': 2021, 'ukuran_layar': '14 inci'}\n",
            "Laptop sedang dimatikan...\n",
            "Laptop sedang dinyalakan...\n"
          ]
        }
      ],
      "source": [
        "# Membuat class Laptop\n",
        "class Laptop:\n",
        "    def __init__(self, merek, tipe, tahun_rilis):\n",
        "        self.merek = merek\n",
        "        self.tipe = tipe\n",
        "        self.tahun_rilis = tahun_rilis\n",
        "\n",
        "    # Method untuk menghidupkan dan mematikan laptop\n",
        "    def hidupkan(self):\n",
        "        print(\"Laptop sedang dinyalakan...\")\n",
        "\n",
        "    def matikan(self):\n",
        "        print(\"Laptop sedang dimatikan...\")\n",
        "\n",
        "# Membuat class Turunan: LaptopGaming\n",
        "class LaptopGaming(Laptop):\n",
        "    def __init__(self, merek, tipe, tahun_rilis, gpu, kapasitas_ram):\n",
        "        super().__init__(merek, tipe, tahun_rilis)\n",
        "        self.gpu = gpu\n",
        "        self.kapasitas_ram = kapasitas_ram\n",
        "\n",
        "# Membuat class Turunan: LaptopKantor\n",
        "class LaptopKantor(Laptop):\n",
        "    def __init__(self, merek, tipe, tahun_rilis, ukuran_layar):\n",
        "        super().__init__(merek, tipe, tahun_rilis)\n",
        "        self.ukuran_layar = ukuran_layar\n",
        "\n",
        "# Membuat objek dari masing-masing class\n",
        "laptop1 = LaptopGaming(\"ASUS\", \"ROG Strix\", 2022, \"NVIDIA RTX 3060\", \"16GB\")\n",
        "laptop2 = LaptopKantor(\"Lenovo\", \"ThinkPad\", 2021, \"14 inci\")\n",
        "\n",
        "# Menampilkan atribut dan memanggil method\n",
        "print(laptop1.__dict__)\n",
        "print(laptop2.__dict__)\n",
        "laptop1.matikan()\n",
        "laptop2.hidupkan()\n"
      ]
    }
  ]
}