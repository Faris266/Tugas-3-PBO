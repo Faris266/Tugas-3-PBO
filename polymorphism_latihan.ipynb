{
  "nbformat": 4,
  "nbformat_minor": 0,
  "metadata": {
    "colab": {
      "provenance": [],
      "authorship_tag": "ABX9TyMWTbpF+lfrVVfb3hqvZgVZ",
      "include_colab_link": true
    },
    "kernelspec": {
      "name": "python3",
      "display_name": "Python 3"
    },
    "language_info": {
      "name": "python"
    }
  },
  "cells": [
    {
      "cell_type": "markdown",
      "metadata": {
        "id": "view-in-github",
        "colab_type": "text"
      },
      "source": [
        "<a href=\"https://colab.research.google.com/github/Faris266/Tugas-3-PBO/blob/main/polymorphism_latihan.ipynb\" target=\"_parent\"><img src=\"https://colab.research.google.com/assets/colab-badge.svg\" alt=\"Open In Colab\"/></a>"
      ]
    },
    {
      "cell_type": "code",
      "execution_count": null,
      "metadata": {
        "id": "hDsBETsMZjZU"
      },
      "outputs": [],
      "source": [
        "class BangunDatar:\n",
        "    def luas(self):\n",
        "        return \"Tidak Diketahui\"\n",
        "\n",
        "class BelahKetupat(BangunDatar):\n",
        "    def __init__(self, diagonal1, diagonal2):\n",
        "        self.diagonal1 = diagonal1\n",
        "        self.diagonal2 = diagonal2\n",
        "\n",
        "    def luas(self):\n",
        "        return 0.5 * self.diagonal1 * self.diagonal2  # Rumus: ½ × d1 × d2\n",
        "\n",
        "class Bundar(BangunDatar):\n",
        "    def __init__(self, jari_jari):\n",
        "        self.jari_jari = jari_jari\n",
        "\n",
        "    def luas(self):\n",
        "        return 3.14 * self.jari_jari ** 2  # Rumus: π × r²\n",
        "\n",
        "# Membuat objek belah ketupat dan bundar\n",
        "bentuk1 = BelahKetupat(10, 8)\n",
        "bentuk2 = Bundar(7)\n",
        "\n",
        "# Menampilkan hasil luas\n",
        "bentuk_list = [bentuk1, bentuk2]\n",
        "for bentuk in bentuk_list:\n",
        "    print(f\"Luas: {bentuk.luas()}\")\n"
      ]
    }
  ]
}