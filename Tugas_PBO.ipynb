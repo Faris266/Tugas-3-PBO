{
  "nbformat": 4,
  "nbformat_minor": 0,
  "metadata": {
    "colab": {
      "provenance": [],
      "authorship_tag": "ABX9TyMxtK0K+TO+QNPxzY5v6bM1",
      "include_colab_link": true
    },
    "kernelspec": {
      "name": "python3",
      "display_name": "Python 3"
    },
    "language_info": {
      "name": "python"
    }
  },
  "cells": [
    {
      "cell_type": "markdown",
      "metadata": {
        "id": "view-in-github",
        "colab_type": "text"
      },
      "source": [
        "<a href=\"https://colab.research.google.com/github/Faris266/Tugas-3-PBO/blob/main/Tugas_PBO.ipynb\" target=\"_parent\"><img src=\"https://colab.research.google.com/assets/colab-badge.svg\" alt=\"Open In Colab\"/></a>"
      ]
    },
    {
      "cell_type": "code",
      "execution_count": 1,
      "metadata": {
        "colab": {
          "base_uri": "https://localhost:8080/"
        },
        "id": "FKlXJ9gPnX1U",
        "outputId": "1ea1e911-a358-4eef-ea3c-2a85fd32dd06"
      },
      "outputs": [
        {
          "output_type": "stream",
          "name": "stdout",
          "text": [
            "Budi deatils:\n",
            "rambut: ikal\n",
            "warna rambut: hitam\n",
            "\n",
            "Michail details:\n",
            "rambut: lurus\n",
            "warna rambut: pirang\n"
          ]
        }
      ],
      "source": [
        "#class variable\n",
        "class Person:\n",
        "\n",
        "  # the ini method or constructor\n",
        "  def __init__(self, rambut, warna):\n",
        "    #instace Variable\n",
        "    self.rambut = rambut\n",
        "    self.warna = warna\n",
        "\n",
        "# object\n",
        "Budi = Person(\"ikal\", \"hitam\")\n",
        "Michail = Person(\"lurus\", \"pirang\")\n",
        "\n",
        "print('Budi deatils:')\n",
        "print('rambut:', Budi.rambut)\n",
        "print('warna rambut:', Budi.warna)\n",
        "\n",
        "print('\\nMichail details:')\n",
        "print('rambut:', Michail.rambut)\n",
        "print('warna rambut:', Michail.warna)\n"
      ]
    }
  ]
}